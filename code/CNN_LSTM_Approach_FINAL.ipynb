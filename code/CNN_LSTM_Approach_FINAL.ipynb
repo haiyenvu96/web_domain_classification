{
 "cells": [
  {
   "cell_type": "markdown",
   "metadata": {},
   "source": [
    "# French web domain classification\n",
    "## CNN and LSTM approaches\n",
    "**Team: Samuel - TuAnh - HaiYen**"
   ]
  },
  {
   "cell_type": "markdown",
   "metadata": {},
   "source": [
    "# Part 1 : Environment setup and data preprocessing"
   ]
  },
  {
   "cell_type": "markdown",
   "metadata": {},
   "source": [
    "## Importation of the packages"
   ]
  },
  {
   "cell_type": "code",
   "execution_count": 1,
   "metadata": {},
   "outputs": [],
   "source": [
    "import os, codecs\n",
    "from os import path\n",
    "import re\n",
    "\n",
    "import numpy as np \n",
    "import pandas as pd \n",
    "import matplotlib.pyplot as plt\n",
    "\n",
    "\n",
    "from nltk.corpus import stopwords \n",
    "import nltk\n",
    "\n",
    "from sklearn.feature_extraction.text import TfidfVectorizer\n",
    "from sklearn.metrics import log_loss,accuracy_score\n",
    "from sklearn.model_selection import train_test_split\n",
    "from sklearn.linear_model import LogisticRegression, SGDClassifier\n",
    "\n",
    "from sklearn import preprocessing\n",
    "\n",
    "import csv\n",
    "\n",
    "import networkx as nx\n",
    "\n",
    "from tensorflow.keras.models import Sequential\n",
    "from tensorflow.keras.layers import Embedding,Bidirectional, LSTM, Dense, Activation, Dropout\n",
    "\n",
    "import tensorflow as tf\n",
    "\n",
    "from tensorflow.keras.preprocessing.text import Tokenizer\n",
    "from tensorflow.keras.preprocessing.sequence import pad_sequences\n",
    "from tensorflow.keras.utils import to_categorical\n",
    "from tensorflow.keras.layers import Dense, Input, GlobalMaxPooling1D\n",
    "from tensorflow.keras.layers import Conv1D, MaxPooling1D, Embedding\n",
    "from tensorflow.keras.models import Model, Sequential\n",
    "from tensorflow.keras.initializers import Constant\n",
    "\n",
    "from tensorflow.keras.layers import Bidirectional \n",
    "from tensorflow.keras.preprocessing import text"
   ]
  },
  {
   "cell_type": "markdown",
   "metadata": {},
   "source": [
    "## Importation of the data"
   ]
  },
  {
   "cell_type": "code",
   "execution_count": 2,
   "metadata": {
    "_cell_guid": "79c7e3d0-c299-4dcb-8224-4455121ee9b0",
    "_uuid": "d629ff2d2480ee46fbb7e2d37f6b5fab8052498a"
   },
   "outputs": [],
   "source": [
    "# Read training data\n",
    "path_data = \"/kaggle/input/fr-domain-classification/\"\n",
    "\n",
    "with open(path_data+\"train_noduplicates.csv\", 'r') as f:\n",
    "    train_data = f.read().splitlines()\n",
    "    \n",
    "with open(path_data+\"train_noduplicates.csv\", 'r') as f:\n",
    "    train_data = f.read().splitlines()\n",
    "\n",
    "\n",
    "train_hosts = list()\n",
    "y_train = list()\n",
    "for row in train_data:\n",
    "    host, label = row.split(\",\")\n",
    "    train_hosts.append(host)\n",
    "    y_train.append(label.lower())\n",
    "\n",
    "# Read test data\n",
    "with open(path_data+\"test.csv\", 'r') as f:\n",
    "    test_hosts = f.read().splitlines()"
   ]
  },
  {
   "cell_type": "code",
   "execution_count": 4,
   "metadata": {},
   "outputs": [],
   "source": [
    "# Load the textual content of a set of webpages for each host into the dictionary \"text\". \n",
    "# The encoding parameter is required since the majority of our text is french.\n",
    "text = dict()\n",
    "filenames = os.listdir(path_data+'text/text')\n",
    "for filename in filenames:\n",
    "    with codecs.open(path.join(path_data+'text/text/', filename), encoding='utf8',errors=\"ignore\") as f: \n",
    "        text[filename] = f.read().replace(\"\\n\", \"\").lower()"
   ]
  },
  {
   "cell_type": "markdown",
   "metadata": {},
   "source": [
    "## Preprocessing the data"
   ]
  },
  {
   "cell_type": "markdown",
   "metadata": {},
   "source": [
    "Delete the english and french stopwords and also the following signs : [\\^\\$\\-()\\\"“#/'@;:—<>{}’`+=~|\\]\\[._\\\\!?,%&*0123456789]"
   ]
  },
  {
   "cell_type": "code",
   "execution_count": 5,
   "metadata": {},
   "outputs": [],
   "source": [
    "stop_words_fr = set(stopwords.words('french'))\n",
    "stop_words_en = set(stopwords.words('english'))"
   ]
  },
  {
   "cell_type": "code",
   "execution_count": 6,
   "metadata": {},
   "outputs": [
    {
     "name": "stdout",
     "output_type": "stream",
     "text": [
      "CPU times: user 10min 35s, sys: 1.92 s, total: 10min 37s\n",
      "Wall time: 10min 40s\n"
     ]
    }
   ],
   "source": [
    "%%time\n",
    "text_processed = {}\n",
    "\n",
    "for j,host in enumerate(text.keys()):\n",
    "    doc = text[host].split()\n",
    "    string_modified = ' '\n",
    "    for i in range(len(doc)) :\n",
    "        doc[i] = doc[i].lstrip().rstrip()\n",
    "        doc[i] = re.sub(r\"[\\^\\$\\-()\\\"“#/'@;:—<>{}’`+=~|\\]\\[._\\\\!?,%&*0123456789]\", \" \", doc[i])\n",
    "        value_split = doc[i].split()\n",
    "        for ele in value_split:\n",
    "            if len(ele) < 3:\n",
    "                ele = ''\n",
    "            elif ele in stop_words_en:\n",
    "                ele = ''\n",
    "            elif ele in stop_words_fr:\n",
    "                ele = ''\n",
    "            else:\n",
    "                string_modified += ' '+ ele\n",
    "    text_processed[host] = string_modified\n",
    "\n",
    "    if j % 500 == 0:\n",
    "        print(str(j)+\"/\"+str(len(text.keys())), end=\"\\r\")"
   ]
  },
  {
   "cell_type": "markdown",
   "metadata": {},
   "source": [
    "### Create te train dataset and the test dataset"
   ]
  },
  {
   "cell_type": "code",
   "execution_count": 7,
   "metadata": {},
   "outputs": [],
   "source": [
    "train_data = list()\n",
    "for host in train_hosts:\n",
    "    if host in text_processed:\n",
    "        train_data.append(text_processed[host])\n",
    "    else:\n",
    "        train_data.append('')"
   ]
  },
  {
   "cell_type": "code",
   "execution_count": 8,
   "metadata": {},
   "outputs": [],
   "source": [
    "test_data = list()\n",
    "for host in test_hosts:\n",
    "    if host in text_processed:\n",
    "        test_data.append(text_processed[host])\n",
    "    else:\n",
    "        test_data.append('')"
   ]
  },
  {
   "cell_type": "markdown",
   "metadata": {},
   "source": [
    "# Part 2 : Conv 1D with pre-trained embedding"
   ]
  },
  {
   "cell_type": "code",
   "execution_count": 9,
   "metadata": {},
   "outputs": [
    {
     "name": "stdout",
     "output_type": "stream",
     "text": [
      "Indexing word vectors.\n",
      "Found 400000 word vectors.\n",
      "CPU times: user 12.8 s, sys: 269 ms, total: 13.1 s\n",
      "Wall time: 13.2 s\n"
     ]
    }
   ],
   "source": [
    "%%time\n",
    "# first, build index mapping words in the embeddings set\n",
    "# to their embedding vector\n",
    "GLOVE_DIR = \"/kaggle/input/glove6b100dtxt/\"\n",
    "\n",
    "print('Indexing word vectors.')\n",
    "embeddings_index = {}\n",
    "with open(os.path.join(GLOVE_DIR, 'glove.6B.100d.txt'), encoding=\"utf8\") as f:\n",
    "    for line in f:\n",
    "        word, coefs = line.split(maxsplit=1)\n",
    "        coefs = np.fromstring(coefs, 'f', sep=' ')\n",
    "        embeddings_index[word] = coefs\n",
    "\n",
    "print('Found %s word vectors.' % len(embeddings_index))"
   ]
  },
  {
   "cell_type": "code",
   "execution_count": 10,
   "metadata": {},
   "outputs": [
    {
     "name": "stdout",
     "output_type": "stream",
     "text": [
      "Shape of label tensor: (1994, 8)\n"
     ]
    }
   ],
   "source": [
    "label_array = np.array(['business/finance', 'education/research', 'entertainment',\n",
    "       'health/medical', 'news/press', 'politics/government/law',\n",
    "       'sports', 'tech/science'])\n",
    "\n",
    "tab_labels = [int(np.where(label_array == ele)[0]) for ele in y_train]\n",
    "\n",
    "labels = to_categorical(np.asarray(tab_labels))\n",
    "print('Shape of label tensor:', labels.shape)"
   ]
  },
  {
   "cell_type": "code",
   "execution_count": 11,
   "metadata": {},
   "outputs": [],
   "source": [
    "MAX_SEQUENCE_LENGTH = 20000\n",
    "MAX_NUM_WORDS = 50000\n",
    "EMBEDDING_DIM = 100\n",
    "VALIDATION_SPLIT = 0.2"
   ]
  },
  {
   "cell_type": "code",
   "execution_count": 12,
   "metadata": {},
   "outputs": [
    {
     "name": "stdout",
     "output_type": "stream",
     "text": [
      "Found 260957 unique tokens.\n",
      "Shape of data tensor: (1994, 20000)\n"
     ]
    }
   ],
   "source": [
    "# finally, vectorize the text samples into a 2D integer tensor\n",
    "tokenizer = Tokenizer(num_words=MAX_NUM_WORDS)\n",
    "tokenizer.fit_on_texts(train_data)\n",
    "sequences = tokenizer.texts_to_sequences(train_data)\n",
    "\n",
    "word_index = tokenizer.word_index\n",
    "print('Found %s unique tokens.' % len(word_index))\n",
    "\n",
    "data = pad_sequences(sequences, maxlen=MAX_SEQUENCE_LENGTH)\n",
    "\n",
    "print('Shape of data tensor:', data.shape)"
   ]
  },
  {
   "cell_type": "code",
   "execution_count": 13,
   "metadata": {},
   "outputs": [
    {
     "name": "stdout",
     "output_type": "stream",
     "text": [
      "Preparing embedding matrix.\n"
     ]
    }
   ],
   "source": [
    "# split the data into a training set and a validation set\n",
    "indices = np.arange(data.shape[0])\n",
    "np.random.shuffle(indices)\n",
    "data = data[indices]\n",
    "labels = labels[indices]\n",
    "num_validation_samples = int(VALIDATION_SPLIT * data.shape[0])\n",
    "\n",
    "x_train = data[:-num_validation_samples]\n",
    "y_train = labels[:-num_validation_samples]\n",
    "x_val = data[-num_validation_samples:]\n",
    "y_val = labels[-num_validation_samples:]\n",
    "\n",
    "print('Preparing embedding matrix.')"
   ]
  },
  {
   "cell_type": "code",
   "execution_count": 14,
   "metadata": {},
   "outputs": [],
   "source": [
    "# prepare embedding matrix\n",
    "num_words = min(MAX_NUM_WORDS, len(word_index) + 1)\n",
    "embedding_matrix = np.zeros((num_words, EMBEDDING_DIM))\n",
    "for word, i in word_index.items():\n",
    "    if i >= MAX_NUM_WORDS:\n",
    "        continue\n",
    "    embedding_vector = embeddings_index.get(word)\n",
    "    if embedding_vector is not None:\n",
    "        # words not found in embedding index will be all-zeros.\n",
    "        embedding_matrix[i] = embedding_vector"
   ]
  },
  {
   "cell_type": "code",
   "execution_count": 15,
   "metadata": {},
   "outputs": [
    {
     "name": "stdout",
     "output_type": "stream",
     "text": [
      "Training model.\n"
     ]
    }
   ],
   "source": [
    "# load pre-trained word embeddings into an Embedding layer\n",
    "# note that we set trainable = False so as to keep the embeddings fixed\n",
    "embedding_layer = Embedding(num_words,\n",
    "                            EMBEDDING_DIM,\n",
    "                            embeddings_initializer=Constant(embedding_matrix),\n",
    "                            input_length=MAX_SEQUENCE_LENGTH,\n",
    "                            trainable=False)\n",
    "\n",
    "print('Training model.')"
   ]
  },
  {
   "cell_type": "code",
   "execution_count": 23,
   "metadata": {},
   "outputs": [],
   "source": [
    "# train a 1D convnet with global maxpooling\n",
    "sequence_input = Input(shape=(MAX_SEQUENCE_LENGTH,), dtype='int32')\n",
    "embedded_sequences = embedding_layer(sequence_input)\n",
    "x = Conv1D(128, 5, activation='relu')(embedded_sequences)\n",
    "x = MaxPooling1D(5)(x)\n",
    "x = Conv1D(128, 5, activation='relu')(x)\n",
    "x = MaxPooling1D(5)(x)\n",
    "x = Conv1D(128, 5, activation='relu')(x)\n",
    "x = GlobalMaxPooling1D()(x)\n",
    "x = Dense(64, activation='relu')(x)\n",
    "preds = Dense(8, activation='softmax')(x)"
   ]
  },
  {
   "cell_type": "code",
   "execution_count": 24,
   "metadata": {},
   "outputs": [],
   "source": [
    "model_Conv1D = Model(sequence_input, preds)\n",
    "model_Conv1D.compile(loss='categorical_crossentropy',\n",
    "              optimizer='adam',\n",
    "              metrics=['acc'])"
   ]
  },
  {
   "cell_type": "code",
   "execution_count": 31,
   "metadata": {},
   "outputs": [
    {
     "name": "stdout",
     "output_type": "stream",
     "text": [
      "Model: \"model_2\"\n",
      "_________________________________________________________________\n",
      "Layer (type)                 Output Shape              Param #   \n",
      "=================================================================\n",
      "input_2 (InputLayer)         [(None, 20000)]           0         \n",
      "_________________________________________________________________\n",
      "embedding (Embedding)        (None, 20000, 100)        5000000   \n",
      "_________________________________________________________________\n",
      "conv1d_3 (Conv1D)            (None, 19996, 128)        64128     \n",
      "_________________________________________________________________\n",
      "max_pooling1d_2 (MaxPooling1 (None, 3999, 128)         0         \n",
      "_________________________________________________________________\n",
      "conv1d_4 (Conv1D)            (None, 3995, 128)         82048     \n",
      "_________________________________________________________________\n",
      "max_pooling1d_3 (MaxPooling1 (None, 799, 128)          0         \n",
      "_________________________________________________________________\n",
      "conv1d_5 (Conv1D)            (None, 795, 128)          82048     \n",
      "_________________________________________________________________\n",
      "global_max_pooling1d_1 (Glob (None, 128)               0         \n",
      "_________________________________________________________________\n",
      "dense_2 (Dense)              (None, 64)                8256      \n",
      "_________________________________________________________________\n",
      "dense_3 (Dense)              (None, 8)                 520       \n",
      "=================================================================\n",
      "Total params: 5,237,000\n",
      "Trainable params: 237,000\n",
      "Non-trainable params: 5,000,000\n",
      "_________________________________________________________________\n",
      "None\n"
     ]
    }
   ],
   "source": [
    "print(model_Conv1D.summary())"
   ]
  },
  {
   "cell_type": "code",
   "execution_count": 25,
   "metadata": {},
   "outputs": [
    {
     "name": "stdout",
     "output_type": "stream",
     "text": [
      "Train on 1596 samples, validate on 398 samples\n",
      "Epoch 1/10\n",
      "1596/1596 [==============================] - 7s 4ms/sample - loss: 1.8441 - acc: 0.2763 - val_loss: 1.7855 - val_acc: 0.2764\n",
      "Epoch 2/10\n",
      "1596/1596 [==============================] - 6s 4ms/sample - loss: 1.7196 - acc: 0.3465 - val_loss: 1.7393 - val_acc: 0.2864\n",
      "Epoch 3/10\n",
      "1596/1596 [==============================] - 6s 4ms/sample - loss: 1.5823 - acc: 0.4129 - val_loss: 1.5709 - val_acc: 0.4422\n",
      "Epoch 4/10\n",
      "1596/1596 [==============================] - 6s 4ms/sample - loss: 1.3947 - acc: 0.5075 - val_loss: 1.5296 - val_acc: 0.4698\n",
      "Epoch 5/10\n",
      "1596/1596 [==============================] - 6s 4ms/sample - loss: 1.2725 - acc: 0.5721 - val_loss: 1.5206 - val_acc: 0.4648\n",
      "Epoch 6/10\n",
      "1596/1596 [==============================] - 6s 4ms/sample - loss: 1.2264 - acc: 0.5664 - val_loss: 1.5047 - val_acc: 0.4623\n",
      "Epoch 7/10\n",
      "1596/1596 [==============================] - 6s 4ms/sample - loss: 1.0771 - acc: 0.6259 - val_loss: 1.6025 - val_acc: 0.4296\n",
      "Epoch 8/10\n",
      "1596/1596 [==============================] - 6s 4ms/sample - loss: 1.0527 - acc: 0.6259 - val_loss: 1.5055 - val_acc: 0.4497\n",
      "Epoch 9/10\n",
      "1596/1596 [==============================] - 6s 4ms/sample - loss: 0.8490 - acc: 0.7243 - val_loss: 1.5418 - val_acc: 0.4598\n",
      "Epoch 10/10\n",
      "1596/1596 [==============================] - 6s 4ms/sample - loss: 0.7139 - acc: 0.7826 - val_loss: 1.6391 - val_acc: 0.4121\n"
     ]
    }
   ],
   "source": [
    "history = model_Conv1D.fit(x_train, y_train,batch_size=64,epochs=10,validation_data=(x_val, y_val))"
   ]
  },
  {
   "cell_type": "code",
   "execution_count": 26,
   "metadata": {},
   "outputs": [
    {
     "name": "stdout",
     "output_type": "stream",
     "text": [
      "dict_keys(['loss', 'acc', 'val_loss', 'val_acc'])\n"
     ]
    },
    {
     "data": {
      "image/png": "[encoded data removed]",
      "text/plain": [
       "<Figure size 432x288 with 1 Axes>"
      ]
     },
     "metadata": {
      "needs_background": "light"
     },
     "output_type": "display_data"
    },
    {
     "data": {
      "image/png": "[encoded data removed]",
      "text/plain": [
       "<Figure size 432x288 with 1 Axes>"
      ]
     },
     "metadata": {
      "needs_background": "light"
     },
     "output_type": "display_data"
    }
   ],
   "source": [
    "print(history.history.keys())\n",
    "# summarize history for accuracy\n",
    "plt.plot(history.history['acc'])\n",
    "plt.plot(history.history['val_acc'])\n",
    "plt.title('model accuracy')\n",
    "plt.ylabel('accuracy')\n",
    "plt.xlabel('epoch')\n",
    "plt.legend(['train', 'test'], loc='upper left')\n",
    "\n",
    "plt.show()\n",
    "# summarize history for loss\n",
    "plt.plot(history.history['loss'])\n",
    "plt.plot(history.history['val_loss'])\n",
    "plt.title('model loss')\n",
    "plt.ylabel('loss')\n",
    "plt.xlabel('epoch')\n",
    "plt.legend(['train', 'test'], loc='upper left')\n",
    "plt.show()"
   ]
  },
  {
   "cell_type": "markdown",
   "metadata": {},
   "source": [
    "# Part 3 - Bidirectionnal-LSTM\n"
   ]
  },
  {
   "cell_type": "code",
   "execution_count": 45,
   "metadata": {},
   "outputs": [],
   "source": [
    "encoded_tf_train = []\n",
    "for sentence in train_data:\n",
    "     encoded_tf_train.append(tf.keras.preprocessing.text.one_hot(sentence,n=50000))\n",
    "\n",
    "encoded_tf_test = []\n",
    "for sentence in test_data:\n",
    "     encoded_tf_test.append(tf.keras.preprocessing.text.one_hot(sentence,n=50000))"
   ]
  },
  {
   "cell_type": "code",
   "execution_count": 46,
   "metadata": {},
   "outputs": [
    {
     "name": "stdout",
     "output_type": "stream",
     "text": [
      "(560, 8000)\n",
      "(1994, 8000)\n"
     ]
    }
   ],
   "source": [
    "paded_tf_test = tf.keras.preprocessing.sequence.pad_sequences(encoded_tf_test,maxlen=8000)\n",
    "print(paded_tf_test.shape)\n",
    "\n",
    "paded_tf_train = tf.keras.preprocessing.sequence.pad_sequences(encoded_tf_train,maxlen=8000)\n",
    "print(paded_tf_train.shape)"
   ]
  },
  {
   "cell_type": "code",
   "execution_count": 43,
   "metadata": {},
   "outputs": [],
   "source": [
    "embed_dim  = 50    # word embedding dimension\n",
    "nhid       = 32  # number of hidden units in the LSTM\n",
    "vocab_size = 50000  # size of the vocabulary\n",
    "n_classes  = 8\n",
    "\n",
    "model_LSTM = Sequential()\n",
    "model_LSTM.add(Embedding(vocab_size, embed_dim))\n",
    "model_LSTM.add(Bidirectional(LSTM(nhid, dropout=0.2)))\n",
    "model_LSTM.add(Dense(n_classes, activation='softmax'))\n",
    "#model_LSTM.add(LSTM(nhid, dropout=0.3))\n",
    "#model_LSTM.add(Dense(n_classes, activation='softmax'))\n",
    "\n",
    "loss_classif     =  'categorical_crossentropy'\n",
    "optimizer        =  'adam' \n",
    "metrics_classif  =  ['accuracy']\n",
    "\n",
    "\n",
    "model_LSTM.compile(loss=loss_classif,\n",
    "              optimizer=optimizer,\n",
    "              metrics=metrics_classif)"
   ]
  },
  {
   "cell_type": "code",
   "execution_count": 47,
   "metadata": {},
   "outputs": [
    {
     "name": "stdout",
     "output_type": "stream",
     "text": [
      "Model: \"sequential_4\"\n",
      "_________________________________________________________________\n",
      "Layer (type)                 Output Shape              Param #   \n",
      "=================================================================\n",
      "embedding_3 (Embedding)      (None, None, 50)          2500000   \n",
      "_________________________________________________________________\n",
      "bidirectional_1 (Bidirection (None, 64)                21248     \n",
      "_________________________________________________________________\n",
      "dense_8 (Dense)              (None, 8)                 520       \n",
      "=================================================================\n",
      "Total params: 2,521,768\n",
      "Trainable params: 2,521,768\n",
      "Non-trainable params: 0\n",
      "_________________________________________________________________\n",
      "None\n"
     ]
    }
   ],
   "source": [
    "print(model_LSTM.summary())"
   ]
  },
  {
   "cell_type": "code",
   "execution_count": 48,
   "metadata": {},
   "outputs": [
    {
     "name": "stdout",
     "output_type": "stream",
     "text": [
      "Train on 1795 samples, validate on 199 samples\n",
      "Epoch 1/10\n",
      "1795/1795 [==============================] - 13s 7ms/sample - loss: 2.0221 - accuracy: 0.2797 - val_loss: 1.9109 - val_accuracy: 0.3216\n",
      "Epoch 2/10\n",
      "1795/1795 [==============================] - 10s 6ms/sample - loss: 1.8447 - accuracy: 0.2914 - val_loss: 1.7703 - val_accuracy: 0.3216\n",
      "Epoch 3/10\n",
      "1795/1795 [==============================] - 11s 6ms/sample - loss: 1.7777 - accuracy: 0.3103 - val_loss: 1.7562 - val_accuracy: 0.2915\n",
      "Epoch 4/10\n",
      "1795/1795 [==============================] - 10s 6ms/sample - loss: 1.7394 - accuracy: 0.3504 - val_loss: 1.7410 - val_accuracy: 0.3216\n",
      "Epoch 5/10\n",
      "1795/1795 [==============================] - 10s 6ms/sample - loss: 1.6502 - accuracy: 0.3989 - val_loss: 1.7811 - val_accuracy: 0.2412\n",
      "Epoch 6/10\n",
      "1795/1795 [==============================] - 10s 6ms/sample - loss: 1.4874 - accuracy: 0.4540 - val_loss: 1.8482 - val_accuracy: 0.2965\n",
      "Epoch 7/10\n",
      "1795/1795 [==============================] - 10s 6ms/sample - loss: 1.3300 - accuracy: 0.5164 - val_loss: 1.8755 - val_accuracy: 0.3166\n",
      "Epoch 8/10\n",
      "1795/1795 [==============================] - 10s 6ms/sample - loss: 1.1821 - accuracy: 0.6123 - val_loss: 1.9723 - val_accuracy: 0.2814\n",
      "Epoch 9/10\n",
      "1795/1795 [==============================] - 11s 6ms/sample - loss: 1.0622 - accuracy: 0.6557 - val_loss: 2.1404 - val_accuracy: 0.2261\n",
      "Epoch 10/10\n",
      "1795/1795 [==============================] - 10s 6ms/sample - loss: 0.9682 - accuracy: 0.6702 - val_loss: 2.2182 - val_accuracy: 0.2714\n"
     ]
    }
   ],
   "source": [
    "VALIDATION_SPLIT = 0.1\n",
    "num_validation_samples = int(VALIDATION_SPLIT * paded_tf_train.shape[0])\n",
    "\n",
    "y_train_LSTM = labels[num_validation_samples:]\n",
    "x_train_LSTM = paded_tf_train[num_validation_samples:]\n",
    "\n",
    "y_dev_LSTM = labels[:num_validation_samples]\n",
    "x_dev_LSTM = paded_tf_train[:num_validation_samples]\n",
    "#x_dev_LSTM = X_train[-num_validation_samples:].toarray()\n",
    "#x_train_LSTM = X_train[num_validation_samples:].toarray()\n",
    "\n",
    "bs = 128\n",
    "n_epochs = 10\n",
    "\n",
    "history_LSTM = model_LSTM.fit(x_train_LSTM, y_train_LSTM, batch_size=bs, epochs=n_epochs, validation_data=(x_dev_LSTM, y_dev_LSTM))"
   ]
  },
  {
   "cell_type": "code",
   "execution_count": 49,
   "metadata": {},
   "outputs": [
    {
     "name": "stdout",
     "output_type": "stream",
     "text": [
      "dict_keys(['loss', 'accuracy', 'val_loss', 'val_accuracy'])\n"
     ]
    },
    {
     "data": {
      "image/png": "[encoded data removed]",
      "text/plain": [
       "<Figure size 432x288 with 1 Axes>"
      ]
     },
     "metadata": {
      "needs_background": "light"
     },
     "output_type": "display_data"
    },
    {
     "data": {
      "image/png": "[encoded data removed]",
      "text/plain": [
       "<Figure size 432x288 with 1 Axes>"
      ]
     },
     "metadata": {
      "needs_background": "light"
     },
     "output_type": "display_data"
    }
   ],
   "source": [
    "print(history_LSTM.history.keys())\n",
    "# summarize history for accuracy\n",
    "plt.plot(history_LSTM.history['accuracy'])\n",
    "plt.plot(history_LSTM.history['val_accuracy'])\n",
    "plt.title('model accuracy')\n",
    "plt.ylabel('accuracy')\n",
    "plt.xlabel('epoch')\n",
    "plt.legend(['train', 'test'], loc='upper left')\n",
    "\n",
    "plt.show()\n",
    "# summarize history for loss\n",
    "plt.plot(history_LSTM.history['loss'])\n",
    "plt.plot(history_LSTM.history['val_loss'])\n",
    "plt.title('model loss')\n",
    "plt.ylabel('loss')\n",
    "plt.xlabel('epoch')\n",
    "plt.legend(['train', 'test'], loc='upper left')\n",
    "plt.show()"
   ]
  }
 ],
 "metadata": {
  "kernelspec": {
   "display_name": "Python 3",
   "language": "python",
   "name": "python3"
  },
  "language_info": {
   "codemirror_mode": {
    "name": "ipython",
    "version": 3
   },
   "file_extension": ".py",
   "mimetype": "text/x-python",
   "name": "python",
   "nbconvert_exporter": "python",
   "pygments_lexer": "ipython3",
   "version": "3.6.1"
  }
 },
 "nbformat": 4,
 "nbformat_minor": 4
}
