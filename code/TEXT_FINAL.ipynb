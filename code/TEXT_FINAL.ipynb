{
 "cells": [
  {
   "cell_type": "markdown",
   "metadata": {},
   "source": [
    "# French web domain classification\n",
    "## Text based classification\n",
    "**Team: Samuel - TuAnh - HaiYen**"
   ]
  },
  {
   "cell_type": "markdown",
   "metadata": {},
   "source": [
    "## Load Data"
   ]
  },
  {
   "cell_type": "code",
   "execution_count": 1,
   "metadata": {},
   "outputs": [],
   "source": [
    "import os, codecs\n",
    "from os import path\n",
    "import re\n",
    "import numpy as np"
   ]
  },
  {
   "cell_type": "code",
   "execution_count": 2,
   "metadata": {},
   "outputs": [],
   "source": [
    "path_data = \"D:\\\\Tu Beo\\\\Education\\\\AlteGrad19\\\\Data Challenge\\\\data\\\\data\\\\\""
   ]
  },
  {
   "cell_type": "code",
   "execution_count": 3,
   "metadata": {},
   "outputs": [],
   "source": [
    "# Read training data\n",
    "with open(path_data+\"train.csv\", 'r') as f:\n",
    "    train_data = f.read().splitlines()\n",
    "\n",
    "train_hosts = list()\n",
    "y_train = list()\n",
    "for row in train_data:\n",
    "    host, label = row.split(\",\")\n",
    "    train_hosts.append(host)\n",
    "    y_train.append(label.lower())\n",
    "\n",
    "# Read test data\n",
    "with open(path_data+\"test.csv\", 'r') as f:\n",
    "    test_hosts = f.read().splitlines()"
   ]
  },
  {
   "cell_type": "code",
   "execution_count": 4,
   "metadata": {},
   "outputs": [],
   "source": [
    "# Load the textual content of a set of webpages for each host into the dictionary \"text\". \n",
    "# The encoding parameter is required since the majority of our text is french.\n",
    "text = dict()\n",
    "filenames = os.listdir(path_data+'text/text')\n",
    "for filename in filenames:\n",
    "    with codecs.open(path.join(path_data+'text/text/', filename), encoding='latin-1') as f: \n",
    "        text[filename] = f.read().replace(\"\\n\", \"\").lower()"
   ]
  },
  {
   "cell_type": "markdown",
   "metadata": {},
   "source": [
    "## Text Preprocessing"
   ]
  },
  {
   "cell_type": "code",
   "execution_count": 5,
   "metadata": {},
   "outputs": [
    {
     "name": "stdout",
     "output_type": "stream",
     "text": [
      "[nltk_data] Downloading package stopwords to\n",
      "[nltk_data]     C:\\Users\\MyPC\\AppData\\Roaming\\nltk_data...\n",
      "[nltk_data]   Package stopwords is already up-to-date!\n"
     ]
    }
   ],
   "source": [
    "from nltk.corpus import stopwords \n",
    "import nltk\n",
    "nltk.download('stopwords')\n",
    "stop_words = set(stopwords.words('english')).union(set(stopwords.words('french'))) "
   ]
  },
  {
   "cell_type": "code",
   "execution_count": 6,
   "metadata": {},
   "outputs": [
    {
     "name": "stdout",
     "output_type": "stream",
     "text": [
      "Wall time: 4min 50s\n"
     ]
    }
   ],
   "source": [
    "%%time\n",
    "text_processed = {}\n",
    "for j,host in enumerate(text.keys()):\n",
    "    doc = text[host].split()\n",
    "    for i in range(len(doc)) :\n",
    "        doc[i] = doc[i].lstrip().rstrip()\n",
    "        doc[i] = re.sub(r\"[\\^\\$\\-()\\\"#/@;:<>{}`+=~|\\]\\[._\\\\!?,%&*]\", \"\", doc[i])\n",
    "        if doc[i] in stop_words or len(doc[i]) < 3:\n",
    "            doc[i] = ''\n",
    "    text_processed[host] = ' '.join(doc)\n",
    "\n",
    "    if j % 500 == 0:\n",
    "        print(str(j)+\"/\"+str(len(text.keys())), end=\"\\r\")"
   ]
  },
  {
   "cell_type": "code",
   "execution_count": 7,
   "metadata": {},
   "outputs": [
    {
     "data": {
      "text/plain": [
       "\"alternate alternate alternate alternate alternate alternate alternate alternate alternate alternate alternate alternate alternate alternate alternate alternate alternate alternate alternate alternate alternate alternate alternate alternate iframe httpswwwgoogletagmanagercomnshtmlidgtm52l954 offline icon  browsing offline   functionality   limited livraison gratuite voir politique  livraisontrouvez  magasin  plus proche  homme collections  nouvelle saison  top tendance  boutique vacances  superdry sport  superdry ski  petits prix  promotion   polos  vãªtements d'extã©rieur  vestes  vestes d'hiver  coupevent  doudounes  vestes  cuir  doudounes sans manches  hauts  tshirts  polos  sweat  capuche  dã©bardeurs  chemises  tops  pulls  bas  shorts  maillots  bain  jeans  survãªtements  pantalons  accessoires  sacs  sousvãªtements  chapeaux  casquettes  dã©tente  autres accessoires  lunettes  soleil  chaussures  claquettes  tongs  baskets  bottes  chaussures  femme collections  nouvelle saison  top tendance  boutique vacances  superdry sport  superdry ski  petits prix  vãªtements d'extã©rieur  vestes  manteaux  vestes d'hiver  coupevent  doudounes  vestes  cuir  doudounes sans manches  hauts  robes  tops  tshirts  sweat  capuche  dã©bardeurs  chemises  maille  bas  shorts  jupes  maillots  bain  jeans  survãªtements  pantalons  accessoires  sacs  sousvãªtements  chapeaux  casquettes  dã©tente  autres accessoires  lunettes  soleil  chaussures  claquettes  tongs  baskets  bottes  chaussures  top tendance nouvelle saison homme  nouvelle saison femme  tendances homme  tendances femme  unisexe   compte  souhaits menu recherche  recherche open superdry logo   recherche   compte  souhaits  panier fermer  indiquez  recherche   homme nouveautes  femme nouveautes  homme boutique vacances  femme robes  homme polos  nouvelle saison nouvelle saison  homme homme  femme femme  derniã¨re chance derniã¨re chance  nouvelle saison  homme nouvelle saison homme nouvelle saison  femme nouvelle saison femme nouvelle saison  homme  nouvelle saison nouvelle saison  top tendance top tendance  derniã¨re chance derniã¨re chance  vãªtements d'extã©rieur vãªtements d'extã©rieur   shirts  shirts  sweats  capuche sweats  capuche  sacs sacs  hauts hauts    â\\x82¬75 polos   â\\x82¬75 polos  bas bas  sport sport  chaussures chaussures  accessories accessories  vãªtements d'extã©rieur  vestes  vestes d'hiver  coupevent  doudounes  vestes  cuir  doudounes sans manches  hauts  pulls  tops  chemises  polos  dã©bardeurs  bas  jeans  survãªtements  pantalons  shorts  maillots  bain  chaussures  claquettes  tongs  baskets  bottes  chaussures  accessories  sousvãªtements  chapeaux  casquettes  dã©tente  autres accessoires  lunettes  soleil  femme  nouvelle saison nouvelle saison  top tendance top tendance  derniã¨re chance derniã¨re chance  vãªtements d'extã©rieur vãªtements d'extã©rieur  sweat  capuche sweat  capuche  robes robes  hauts hauts  sacs sacs  bas bas  sport sport  chaussures chaussures  accessoires accessoires  vãªtements d'extã©rieur  vetementsdexterieur  vestes d'hiver  coupevent  doudounes  vestes  cuir  doudounes sans manches  hauts   shirts  tops  dã©bardeurs  chemises  maille  bas  jeans  survãªtements  pantalons  jupes  shorts  maillots  bain  chaussures  bottes  baskets  chaussures  tongs  claquettes  accessoires  sousvãªtements  chapeaux  casquettes  dã©tente  autres accessoires  lunettes  soleil  derniã¨re chance  homme derniã¨re chance homme derniã¨re chance  femme derniã¨re chance femme derniã¨re chance   compte  souhaits  panier fermer product taille button  button  supprimer  sac  vide soustotal total livraison gratuite  royaumeuni europe  amã©rique  nord paiement accueil homme polospolos homme polo classique   maille piquã©e rayã© col  pointe  uni jersey lourd  coton tissã©      tous  goã»tsmontre plus polo classique   maille piquã©e rayã© col  pointe  uni jersey lourd  coton tissã©      tous  goã»ts polo   touche superdry  articles affiner  pertinence 291 articles button load  fermer retour  hautrestez connectã©e entre   coulisses  accã©der  campagnes  collaborations  nouveaux produits   ventes  s'abonner s'abonner identifiant compte trouver  magasin button pourquoi acheter  superdrybe  acheter auprã¨s   marque  plan  site  livraison gratuite  royaumeuni europe  amã©rique  nord  retours d'articles garantis button services clientã¨le  centre d'assistance  livraison  retours  foire  questions   contacter button superdry   marque   propos    entreprise  carriã¨res button informations  annuaire  magasins  conditions gã©nã©rales  vente  politique  confidentialitã©  cookie consentement  spritevisa  mastercard  amex  paypal  verifiedbyvisa  mastercardsecurecode  verisign belgique  english  france  deutschland  nederland  belgique  belgiã«  canada english  canada franã§ais  espaã±a  italia  suisse  schweiz  norge  sverige  danmark  suomi  usa  australia  ä¸\\xadå\\x9b½  ä¸\\xadå\\x9b½å\\x8f°æ¹¾  ireland  poland  hong kong china   superdry 2019 button  alternate alternate alternate alternate alternate alternate alternate alternate alternate alternate alternate alternate alternate alternate alternate alternate alternate alternate alternate alternate alternate alternate alternate alternate iframe httpswwwgoogletagmanagercomnshtmlidgtm52l954 offline icon  browsing offline   functionality   limited gratis bezorging algemene voorwaarden zijn van toepassingvind  dichtstbijzijnde winkel  heren collecties  een nieuw seizoen  hitlijst  vakantiewinkel  superdry sport  superdry ski  poloshirtspromotie  outerwear  jassen  winterjassen  windjack  donsjassen  lederen jassen  gilets  shirts  topjes  tshirts  polo's  hoodies  tankshirts  hemden  tops  trui  broeken  shorts  zwemkleding  jeans  trainingsbroeken  broeken  accessoires  tassen  ondergoed  sokken  hoeden  petten  loungekledij  overige accessoires  zonnebrillen  schoenen  slippers  teenslippers  trainingsschoenen  laarzen  schoenen  dames collecties  een nieuw seizoen  hitlijst  vakantiewinkel  superdry sport  superdry ski  outerwear  jassen  winterjassen  windjack  donsjassen  lederen jassen  gilets  shirts  topjes  kleedjes  tops  tshirts  hoodies  tankshirts  hemden  gebreide kleding  broeken  shorts  rokken  zwemkleding  jeans  trainingsbroeken  broeken  accessoires  tassen  ondergoed  sokken  hoeden  petten  loungekledij  overige accessoires  zonnebrillen  schoenen  slippers  teenslippers  trainingsschoenen  laarzen  schoenen  nieuw binnen nieuw seizoen voor heren  nieuw seizoen voor dames  wat  populair voor heren  wat  populair voor dames  unisex  mijn account  verlanglijst menu zoeken  zoeken open superdry logo   zoeken  mijn account  verlanglijst  winkelmandje bekijken sluiten  geef  zoekopdracht    heren nieuw  dames nieuw  heren vakantiewinkel  dames kleedjes  heren polos  new  new   heren heren  dames dames  laatste kans laatste kans  new   heren new  heren new   dames new  dames new   heren  new  new   trending  trending   laatste kans laatste kans  outerwear outerwear  tshirts tshirts  hoodies hoodies  tassen tassen  shirts  topjes shirts  topjes   voor â\\x82¬75 polos  voor â\\x82¬75 polos  broeken broeken  sport sport  schoenen schoenen  accessoires accessoires  outerwear  jassen  winterjassen  windjack  donsjassen  lederen jassen  gilets  shirts  topjes  trui  tops  hemden  polo's  tankshirts  broeken  jeans  trainingsbroeken  broeken  shorts  zwemkleding  schoenen  slippers  teenslippers  trainingsschoenen  laarzen  schoenen  accessoires  ondergoed  sokken  hoeden  petten  loungekledij  overige accessoires  zonnebrillen  dames  new  new   trending  trending   laatste kans laatste kans  outerwear outerwear  hoodies hoodies  kleedjes kleedjes  shirts  topjes shirts  topjes  tassen tassen  broeken broeken  sport sport  schoenen schoenen  accessoires accessoires  outerwear  jassen  winterjassen  windjack  donsjassen  lederen jassen  gilets  shirts  topjes  tshirts  tops  tankshirts  hemden  gebreide kleding  broeken  jeans  trainingsbroeken  broeken  rokken  shorts  zwemkleding  schoenen  laarzen  trainingsschoenen  schoenen  teenslippers  slippers  accessoires  ondergoed  sokken  hoeden  petten  loungekledij  overige accessoires  zonnebrillen  laatste kans  heren laatste kans heren laatste kans  dames laatste kans dames laatste kans  mijn account  verlanglijst  winkelmandje bekijken sluiten product maat button  button  verwijderen  bag  leeg subtotaal totaal gratis levering   europa  namerika naar  kassa home heren polosherenpoloshirts het klassieke poloshirt  piquã© poloshirt gestreept met puntkraag  effen van zware jersey  geweven katoen   voor elke stijl wel ietslaat meer zien het klassieke poloshirt  piquã© poloshirt gestreept met puntkraag  effen van zware jersey  geweven katoen   voor elke stijl wel iets het poloshirt met een superdry tintje  artikels verfijnen  meest relevant 291 artikelen button load  sluiten terug naar bovenblijf   hoogte kijk achter  schermen voor campagnes samenwerkingsverbanden nieuwe producten  verkoop  inschrijven inschrijven aanmelden  account winkelzoeker button waarom superdrybe  kopen bij het merk  sitemap  gratis levering   europa  namerika  gegarandeerde teruggave button klantendienst  helpcentrum  bezorging  retourzendingen  veelgestelde vragen  contact opnemen button het merk superdry  wie  zijn  het bedrijf  carriã¨re button informatie  onze winkels  algemene voorwaarden  privacybeleid  cookie consent  spritevisa  mastercard  amex  paypal  ideal  verifiedbyvisa  mastercardsecurecode  verisign belgiã«  english  france  deutschland  nederland  belgique  belgiã«  canada english  canada franã§ais  espaã±a  italia  suisse  schweiz  norge  sverige  danmark  suomi  usa  australia  ä¸\\xadå\\x9b½  ä¸\\xadå\\x9b½å\\x8f°æ¹¾  ireland  poland  hong kong china   superdry 2019 button  alternate alternate alternate alternate alternate alternate alternate alternate alternate alternate alternate alternate alternate alternate alternate alternate alternate alternate alternate alternate alternate alternate alternate alternate iframe httpswwwgoogletagmanagercomnshtmlidgtm52l954 offline icon  browsing offline   functionality   limited livraison gratuite voir politique  livraisontrouvez  magasin  plus proche  homme collections  nouvelle saison  top tendance  boutique vacances  superdry sport  superdry ski  petits prix  promotion   polos  vãªtements d'extã©rieur  vestes  vestes d'hiver  coupevent  doudounes  vestes  cuir  doudounes sans manches  hauts  tshirts  polos  sweat  capuche  dã©bardeurs  chemises  tops  pulls  bas  shorts  maillots  bain  jeans  survãªtements  pantalons  accessoires  sacs  sousvãªtements  chapeaux  casquettes  dã©tente  autres accessoires  lunettes  soleil  chaussures  claquettes  tongs  baskets  bottes  chaussures  femme collections  nouvelle saison  top tendance  boutique vacances  superdry sport  superdry ski  petits prix  vãªtements d'extã©rieur  vestes  manteaux  vestes d'hiver  coupevent  doudounes  vestes  cuir  doudounes sans manches  hauts  robes  tops  tshirts  sweat  capuche  dã©bardeurs  chemises  maille  bas  shorts  jupes  maillots  bain  jeans  survãªtements  pantalons  accessoires  sacs  sousvãªtements  chapeaux  casquettes  dã©tente  autres accessoires  lunettes  soleil  chaussures  claquettes  tongs  baskets  bottes  chaussures  top tendance nouvelle saison homme  nouvelle saison femme  tendances homme  tendances femme  unisexe   compte  souhaits menu recherche  recherche open superdry logo   recherche   compte  souhaits  panier fermer  indiquez  recherche   homme nouveautes  femme nouveautes  homme boutique vacances  femme robes  homme polos  nouvelle saison nouvelle saison  homme homme  femme femme  derniã¨re chance derniã¨re chance  nouvelle saison  homme nouvelle saison homme nouvelle saison  femme nouvelle saison femme nouvelle saison  homme  nouvelle saison nouvelle saison  top tendance top tendance  derniã¨re chance derniã¨re chance  vãªtements d'extã©rieur vãªtements d'extã©rieur   shirts  shirts  sweats  capuche sweats  capuche  sacs sacs  hauts hauts    â\\x82¬75 polos   â\\x82¬75 polos  bas bas  sport sport  chaussures chaussures  accessories accessories  vãªtements d'extã©rieur  vestes  vestes d'hiver  coupevent  doudounes  vestes  cuir  doudounes sans manches  hauts  pulls  tops  chemises  polos  dã©bardeurs  bas  jeans  survãªtements  pantalons  shorts  maillots  bain  chaussures  claquettes  tongs  baskets  bottes  chaussures  accessories  sousvãªtements  chapeaux  casquettes  dã©tente  autres accessoires  lunettes  soleil  femme  nouvelle saison nouvelle saison  top tendance top tendance  derniã¨re chance derniã¨re chance  vãªtements d'extã©rieur vãªtements d'extã©rieur  sweat  capuche sweat  capuche  robes robes  hauts hauts  sacs sacs  bas bas  sport sport  chaussures chaussures  accessoires accessoires  vãªtements d'extã©rieur  vetementsdexterieur  vestes d'hiver  coupevent  doudounes  vestes  cuir  doudounes sans manches  hauts   shirts  tops  dã©bardeurs  chemises  maille  bas  jeans  survãªtements  pantalons  jupes  shorts  maillots  bain  chaussures  bottes  baskets  chaussures  tongs  claquettes  accessoires  sousvãªtements  chapeaux  casquettes  dã©tente  autres accessoires  lunettes  soleil  derniã¨re chance  homme derniã¨re chance homme derniã¨re chance  femme derniã¨re chance femme derniã¨re chance   compte  souhaits  panier fermer product taille button  button  supprimer  sac  vide soustotal total livraison gratuite  royaumeuni europe  amã©rique  nord paiement accueil homme sweatssweats  capuche homme sweats  capuche  enfiler  sweats  capuche zippã©s lã©gers  coupes diffã©rentes  rã©pondre  tous  besoinsmontre plus sweats  capuche  enfiler  sweats  capuche zippã©s lã©gers  coupes diffã©rentes  rã©pondre  tous  besoins capuches  cordon  serrage   style superdry caractã©ristique  incontournable   porterez pendant  longues annã©es  articles affiner  pertinence 797 articles button load  fermer retour  hautrestez connectã©e entre   coulisses  accã©der  campagnes  collaborations  nouveaux produits   ventes  s'abonner s'abonner identifiant compte trouver  magasin button pourquoi acheter  superdrybe  acheter auprã¨s   marque  plan  site  livraison gratuite  royaumeuni europe  amã©rique  nord  retours d'articles garantis button services clientã¨le  centre d'assistance  livraison  retours  foire  questions   contacter button superdry   marque   propos    entreprise  carriã¨res button informations  annuaire  magasins  conditions gã©nã©rales  vente  politique  confidentialitã©  cookie consentement  spritevisa  mastercard  amex  paypal  verifiedbyvisa  mastercardsecurecode  verisign belgique  english  france  deutschland  nederland  belgique  belgiã«  canada english  canada franã§ais  espaã±a  italia  suisse  schweiz  norge  sverige  danmark  suomi  usa  australia  ä¸\\xadå\\x9b½  ä¸\\xadå\\x9b½å\\x8f°æ¹¾  ireland  poland  hong kong china   superdry 2019 button  alternate alternate alternate alternate alternate alternate alternate alternate alternate alternate alternate alternate alternate alternate alternate alternate alternate alternate alternate alternate alternate alternate alternate alternate iframe httpswwwgoogletagmanagercomnshtmlidgtm52l954 offline icon  browsing offline   functionality   limited gratis bezorging algemene voorwaarden zijn van toepassingvind  dichtstbijzijnde winkel  heren collecties  een nieuw seizoen  hitlijst  vakantiewinkel  superdry sport  superdry ski  poloshirtspromotie  outerwear  jassen  winterjassen  windjack  donsjassen  lederen jassen  gilets  shirts  topjes  tshirts  polo's  hoodies  tankshirts  hemden  tops  trui  broeken  shorts  zwemkleding  jeans  trainingsbroeken  broeken  accessoires  tassen  ondergoed  sokken  hoeden  petten  loungekledij  overige accessoires  zonnebrillen  schoenen  slippers  teenslippers  trainingsschoenen  laarzen  schoenen  dames collecties  een nieuw seizoen  hitlijst  vakantiewinkel  superdry sport  superdry ski  outerwear  jassen  winterjassen  windjack  donsjassen  lederen jassen  gilets  shirts  topjes  kleedjes  tops  tshirts  hoodies  tankshirts  hemden  gebreide kleding  broeken  shorts  rokken  zwemkleding  jeans  trainingsbroeken  broeken  accessoires  tassen  ondergoed  sokken  hoeden  petten  loungekledij  overige accessoires  zonnebrillen  schoenen  slippers  teenslippers  trainingsschoenen  laarzen  schoenen  nieuw binnen nieuw seizoen voor heren  nieuw seizoen voor dames  wat  populair voor heren  wat  populair voor dames  unisex  mijn account  verlanglijst menu zoeken  zoeken open superdry logo   zoeken  mijn account  verlanglijst  winkelmandje bekijken sluiten  geef  zoekopdracht    heren nieuw  dames nieuw  heren vakantiewinkel  dames kleedjes  heren polos  new  new   heren heren  dames dames  laatste kans laatste kans  new   heren new  heren new   dames new  dames new   heren  new  new   trending  trending   laatste kans laatste kans  outerwear outerwear  tshirts tshirts  hoodies hoodies  tassen tassen  shirts  topjes shirts  topjes   voor â\\x82¬75 polos  voor â\\x82¬75 polos  broeken broeken  sport sport  schoenen schoenen  accessoires accessoires  outerwear  jassen  winterjassen  windjack  donsjassen  lederen jassen  gilets  shirts  topjes  trui  tops  hemden  polo's  tankshirts  broeken  jeans  trainingsbroeken  broeken  shorts  zwemkleding  schoenen  slippers  teenslippers  trainingsschoenen  laarzen  schoenen  accessoires  ondergoed  sokken  hoeden  petten  loungekledij  overige accessoires  zonnebrillen  dames  new  new   trending  trending   laatste kans laatste kans  outerwear outerwear  hoodies hoodies  kleedjes kleedjes  shirts  topjes shirts  topjes  tassen tassen  broeken broeken  sport sport  schoenen schoenen  accessoires accessoires  outerwear  jassen  winterjassen  windjack  donsjassen  lederen jassen  gilets  shirts  topjes  tshirts  tops  tankshirts  hemden  gebreide kleding  broeken  jeans  trainingsbroeken  broeken  rokken  shorts  zwemkleding  schoenen  laarzen  trainingsschoenen  schoenen  teenslippers  slippers  accessoires  ondergoed  sokken  hoeden  petten  loungekledij  overige accessoires  zonnebrillen  laatste kans  heren laatste kans heren laatste kans  dames laatste kans dames laatste kans  mijn account  verlanglijst  winkelmandje bekijken sluiten product maat button  button  verwijderen  bag  leeg subtotaal totaal gratis levering   europa  namerika naar  kassa home heren hoodiesherenhoodies  sweaters van  klassieke hoodie tot lichtgewicht hoodies met ritslaat meer zien van  klassieke hoodie tot lichtgewicht hoodies met rits van originele orange label knitwear tot vintage shirts met ronde hals supervisuele graphics  handgestikte subtiele logoâ\\x80\\x99s  artikels verfijnen  meest relevant 799 artikelen button load  sluiten terug naar bovenblijf   hoogte kijk achter  schermen voor campagnes samenwerkingsverbanden nieuwe producten  verkoop  inschrijven inschrijven aanmelden  account winkelzoeker button waarom superdrybe  kopen bij het merk  sitemap  gratis levering   europa  namerika  gegarandeerde teruggave button klantendienst  helpcentrum  bezorging  retourzendingen  veelgestelde vragen  contact opnemen button het merk superdry  wie  zijn  het bedrijf  carriã¨re button informatie  onze winkels  algemene voorwaarden  privacybeleid  cookie consent  spritevisa  mastercard  amex  paypal  ideal  verifiedbyvisa  mastercardsecurecode  verisign belgiã«  english  france  deutschland  nederland  belgique  belgiã«  canada english  canada franã§ais  espaã±a  italia  suisse  schweiz  norge  sverige  danmark  suomi  usa  australia  ä¸\\xadå\\x9b½  ä¸\\xadå\\x9b½å\\x8f°æ¹¾  ireland  poland  hong kong china   superdry 2019 button  alternate alternate alternate alternate alternate alternate alternate alternate alternate alternate alternate alternate alternate alternate alternate alternate alternate alternate alternate alternate alternate alternate alternate alternate iframe httpswwwgoogletagmanagercomnshtmlidgtm52l954 offline icon  browsing offline   functionality   limited livraison gratuite voir politique  livraisontrouvez  magasin  plus proche  homme collections  nouvelle saison  top tendance  boutique vacances  superdry sport  superdry ski  petits prix  promotion   polos  vãªtements d'extã©rieur  vestes  vestes d'hiver  coupevent  doudounes  vestes  cuir  doudounes sans manches  hauts  tshirts  polos  sweat  capuche  dã©bardeurs  chemises  tops  pulls  bas  shorts  maillots  bain  jeans  survãªtements  pantalons  accessoires  sacs  sousvãªtements  chapeaux  casquettes  dã©tente  autres accessoires  lunettes  soleil  chaussures  claquettes  tongs  baskets  bottes  chaussures  femme collections  nouvelle saison  top tendance  boutique vacances  superdry sport  superdry ski  petits prix  vãªtements d'extã©rieur  vestes  manteaux  vestes d'hiver  coupevent  doudounes  vestes  cuir  doudounes sans manches  hauts  robes  tops  tshirts  sweat  capuche  dã©bardeurs  chemises  maille  bas  shorts  jupes  maillots  bain  jeans  survãªtements  pantalons  accessoires  sacs  sousvãªtements  chapeaux  casquettes  dã©tente  autres accessoires  lunettes  soleil  chaussures  claquettes  tongs  baskets  bottes  chaussures  top tendance nouvelle saison homme  nouvelle saison femme  tendances homme  tendances femme  unisexe   compte  souhaits menu recherche  recherche open superdry logo   recherche   compte  souhaits  panier fermer  indiquez  recherche   homme nouveautes  femme nouveautes  homme boutique vacances  femme robes  homme polos  nouvelle saison nouvelle saison  homme homme  femme femme  derniã¨re chance derniã¨re chance  nouvelle saison  homme nouvelle saison homme nouvelle saison  femme nouvelle saison femme nouvelle saison  homme  nouvelle saison nouvelle saison  top tendance top tendance  derniã¨re chance derniã¨re chance  vãªtements d'extã©rieur vãªtements d'extã©rieur   shirts  shirts  sweats  capuche sweats  capuche  sacs sacs  hauts hauts    â\\x82¬75 polos   â\\x82¬75 polos  bas bas  sport sport  chaussures chaussures  accessories accessories  vãªtements d'extã©rieur  vestes  vestes d'hiver  coupevent  doudounes  vestes  cuir  doudounes sans manches  hauts  pulls  tops  chemises  polos  dã©bardeurs  bas  jeans  survãªtements  pantalons  shorts  maillots  bain  chaussures  claquettes  tongs  baskets  bottes  chaussures  accessories  sousvãªtements  chapeaux  casquettes  dã©tente  autres accessoires  lunettes  soleil  femme  nouvelle saison nouvelle saison  top tendance top tendance  derniã¨re chance derniã¨re chance  vãªtements d'extã©rieur vãªtements d'extã©rieur  sweat  capuche sweat  capuche  robes robes  hauts hauts  sacs sacs  bas bas  sport sport  chaussures chaussures  accessoires accessoires  vãªtements d'extã©rieur  vetementsdexterieur  vestes d'hiver  coupevent  doudounes  vestes  cuir  doudounes sans manches  hauts   shirts  tops  dã©bardeurs  chemises  maille  bas  jeans  survãªtements  pantalons  jupes  shorts  maillots  bain  chaussures  bottes  baskets  chaussures  tongs  claquettes  accessoires  sousvãªtements  chapeaux  casquettes  dã©tente  autres accessoires  lunettes  soleil  derniã¨re chance  homme derniã¨re chance homme derniã¨re chance  femme derniã¨re chance femme derniã¨re chance   compte  souhaits  panier fermer product taille button  button  supprimer  sac  vide soustotal total livraison gratuite  royaumeuni europe  amã©rique  nord paiement accueil homme chemiseschemises homme  collection  chemises superdry  homme offre  style ã©lã©gant  emblã©matique adaptã©  toutes  occasionsmontre plus  collection  chemises superdry  homme offre  style ã©lã©gant  emblã©matique adaptã©  toutes  occasions chemise bã»cheron dã©contractã©e   virã©e nocturne  chemise oxford ajustã©e  jean  bottines chelsea   style chic  quotidien  articles affiner  pertinence 397 articles button load  fermer retour  hautrestez connectã©e entre   coulisses  accã©der  campagnes  collaborations  nouveaux produits   ventes  s'abonner s'abonner identifiant compte trouver  magasin button pourquoi acheter  superdrybe  acheter auprã¨s   marque  plan  site  livraison gratuite  royaumeuni europe  amã©rique  nord  retours d'articles garantis button services clientã¨le  centre d'assistance  livraison  retours  foire  questions   contacter button superdry   marque   propos    entreprise  carriã¨res button informations  annuaire  magasins  conditions gã©nã©rales  vente  politique  confidentialitã©  cookie consentement  spritevisa  mastercard  amex  paypal  verifiedbyvisa  mastercardsecurecode  verisign belgique  english  france  deutschland  nederland  belgique  belgiã«  canada english  canada franã§ais  espaã±a  italia  suisse  schweiz  norge  sverige  danmark  suomi  usa  australia  ä¸\\xadå\\x9b½  ä¸\\xadå\\x9b½å\\x8f°æ¹¾  ireland  poland  hong kong china   superdry 2019 button \""
      ]
     },
     "execution_count": 7,
     "metadata": {},
     "output_type": "execute_result"
    }
   ],
   "source": [
    "text_processed['1']"
   ]
  },
  {
   "cell_type": "markdown",
   "metadata": {},
   "source": [
    "## Compute TF-IDF vector"
   ]
  },
  {
   "cell_type": "code",
   "execution_count": 8,
   "metadata": {},
   "outputs": [],
   "source": [
    "from sklearn.feature_extraction.text import TfidfVectorizer"
   ]
  },
  {
   "cell_type": "code",
   "execution_count": 9,
   "metadata": {},
   "outputs": [],
   "source": [
    "# Get textual content of web hosts of the train set\n",
    "train_data = list()\n",
    "for host in train_hosts:\n",
    "    if host in text_processed:\n",
    "        train_data.append(text_processed[host])\n",
    "    else:\n",
    "        train_data.append('')\n",
    "        \n",
    "# Get textual content of web hosts of the test set\n",
    "test_data = list()\n",
    "for host in test_hosts:\n",
    "    if host in text_processed:\n",
    "        test_data.append(text_processed[host])\n",
    "    else:\n",
    "        test_data.append('')"
   ]
  },
  {
   "cell_type": "code",
   "execution_count": 10,
   "metadata": {},
   "outputs": [
    {
     "name": "stdout",
     "output_type": "stream",
     "text": [
      "Train matrix dimensionality:  (2125, 5512)\n",
      "Test matrix dimensionality:  (560, 5512)\n",
      "Wall time: 31.4 s\n"
     ]
    }
   ],
   "source": [
    "%%time\n",
    "vec = TfidfVectorizer(decode_error='ignore', strip_accents='unicode', encoding='latin-1', min_df=50, max_df=2000)\n",
    "X_train = vec.fit_transform(train_data)\n",
    "\n",
    "# Create the test matrix following the same approach as in the case of the training matrix\n",
    "X_test = vec.transform(test_data)\n",
    "\n",
    "print(\"Train matrix dimensionality: \", X_train.shape)\n",
    "print(\"Test matrix dimensionality: \", X_test.shape)"
   ]
  },
  {
   "cell_type": "markdown",
   "metadata": {},
   "source": [
    "## Normalize the data"
   ]
  },
  {
   "cell_type": "code",
   "execution_count": 11,
   "metadata": {},
   "outputs": [],
   "source": [
    "from sklearn import preprocessing\n",
    "X_train_normalized = preprocessing.normalize(X_train, norm='max', axis=1)"
   ]
  },
  {
   "cell_type": "markdown",
   "metadata": {},
   "source": [
    "## Train the model"
   ]
  },
  {
   "cell_type": "code",
   "execution_count": 12,
   "metadata": {},
   "outputs": [],
   "source": [
    "from sklearn.model_selection import train_test_split\n",
    "from sklearn.linear_model import LogisticRegression\n",
    "from sklearn.metrics import log_loss,accuracy_score"
   ]
  },
  {
   "cell_type": "code",
   "execution_count": 13,
   "metadata": {},
   "outputs": [
    {
     "name": "stdout",
     "output_type": "stream",
     "text": [
      "TRAIN loss: 0.5153696693156739\n",
      "TRAIN accuracy: 0.8885983263598326\n",
      "VAL loss: 1.2280138521806483\n",
      "VAL accuracy: 0.6009389671361502\n"
     ]
    }
   ],
   "source": [
    "# Train/validation split\n",
    "X_train_small, X_val, y_train_small, y_val = train_test_split(X_train_normalized, y_train, test_size=0.1, random_state=42)\n",
    "\n",
    "# Use logistic regression to classify the webpages of the test set\n",
    "clf = LogisticRegression(solver='lbfgs', multi_class='auto', max_iter=1000)\n",
    "clf.fit(X_train_small, y_train_small)\n",
    "\n",
    "y_pred = clf.predict_proba(X_train_small)\n",
    "print(\"TRAIN loss:\", log_loss(y_train_small, y_pred))\n",
    "\n",
    "y_pred_label = clf.predict(X_train_small)\n",
    "print(\"TRAIN accuracy:\", accuracy_score(y_train_small, y_pred_label))\n",
    "\n",
    "y_pred = clf.predict_proba(X_val)\n",
    "print(\"VAL loss:\", log_loss(y_val, y_pred))\n",
    "\n",
    "y_pred_label = clf.predict(X_val)\n",
    "print(\"VAL accuracy:\", accuracy_score(y_val, y_pred_label))"
   ]
  },
  {
   "cell_type": "markdown",
   "metadata": {},
   "source": [
    "## Compute the prediction scores for all the nodes in the graph"
   ]
  },
  {
   "cell_type": "code",
   "execution_count": 19,
   "metadata": {},
   "outputs": [],
   "source": [
    "import csv"
   ]
  },
  {
   "cell_type": "code",
   "execution_count": 14,
   "metadata": {},
   "outputs": [
    {
     "name": "stdout",
     "output_type": "stream",
     "text": [
      "Other matrix dimensionality:  (25449, 5512)\n",
      "Wall time: 3min 16s\n"
     ]
    }
   ],
   "source": [
    "%%time\n",
    "# Compute the list of the remaining nodes\n",
    "other_hosts = list(set(text_processed.keys()).difference(set(train_hosts).union(test_hosts)))\n",
    "\n",
    "# Get textual content of web hosts of the other nodes\n",
    "other_data = list()\n",
    "for host in other_hosts:\n",
    "    if host in text_processed:\n",
    "        other_data.append(text_processed[host])\n",
    "    else:\n",
    "        other_data.append('')\n",
    "        \n",
    "# Compute the tf-idf vector of the other nodes\n",
    "X_other = vec.transform(other_data)\n",
    "print(\"Other matrix dimensionality: \", X_other.shape)"
   ]
  },
  {
   "cell_type": "code",
   "execution_count": 15,
   "metadata": {},
   "outputs": [],
   "source": [
    "X_train_normalized = preprocessing.normalize(X_train, norm='max', axis=1)\n",
    "X_test_normalized = preprocessing.normalize(X_test, norm='max', axis=1)\n",
    "X_other_normalized = preprocessing.normalize(X_other, norm='max', axis=1)"
   ]
  },
  {
   "cell_type": "code",
   "execution_count": 16,
   "metadata": {},
   "outputs": [
    {
     "data": {
      "text/plain": [
       "LogisticRegression(C=1.0, class_weight=None, dual=False, fit_intercept=True,\n",
       "                   intercept_scaling=1, l1_ratio=None, max_iter=1000,\n",
       "                   multi_class='auto', n_jobs=None, penalty='l2',\n",
       "                   random_state=None, solver='lbfgs', tol=0.0001, verbose=0,\n",
       "                   warm_start=False)"
      ]
     },
     "execution_count": 16,
     "metadata": {},
     "output_type": "execute_result"
    }
   ],
   "source": [
    "# Retrain for all the train data\n",
    "clf = LogisticRegression(solver='lbfgs', multi_class='auto', max_iter=1000)\n",
    "clf.fit(X_train_normalized, y_train)"
   ]
  },
  {
   "cell_type": "code",
   "execution_count": 17,
   "metadata": {},
   "outputs": [],
   "source": [
    "y_train_pred = clf.predict_proba(X_train_normalized)\n",
    "y_test_pred = clf.predict_proba(X_test_normalized)\n",
    "y_other_pred = clf.predict_proba(X_other_normalized)"
   ]
  },
  {
   "cell_type": "code",
   "execution_count": 20,
   "metadata": {},
   "outputs": [],
   "source": [
    "# Write the output to the file\n",
    "with open(path_data+'text_all_scores.csv', 'w') as csvfile:\n",
    "    writer = csv.writer(csvfile, delimiter=',')\n",
    "    lst = clf.classes_.tolist()\n",
    "    lst.insert(0, \"Host\")\n",
    "    writer.writerow(lst)\n",
    "    for i, host in enumerate(train_hosts):\n",
    "        lst = y_train_pred[i,:].tolist()\n",
    "        lst.insert(0, host)\n",
    "        writer.writerow(lst)\n",
    "    for i, host in enumerate(test_hosts):\n",
    "        lst = y_test_pred[i,:].tolist()\n",
    "        lst.insert(0, host)\n",
    "        writer.writerow(lst)\n",
    "    for i, host in enumerate(other_hosts):\n",
    "        lst = y_other_pred[i,:].tolist()\n",
    "        lst.insert(0, host)\n",
    "        writer.writerow(lst)"
   ]
  },
  {
   "cell_type": "markdown",
   "metadata": {},
   "source": [
    "## Output for Kaggle"
   ]
  },
  {
   "cell_type": "code",
   "execution_count": 21,
   "metadata": {},
   "outputs": [],
   "source": [
    "# Write predictions to a file\n",
    "with open(path_data+'text_test_to_kaggle.csv', 'w') as csvfile:\n",
    "    writer = csv.writer(csvfile, delimiter=',')\n",
    "    lst = clf.classes_.tolist()\n",
    "    lst.insert(0, \"Host\")\n",
    "    writer.writerow(lst)\n",
    "    for i,test_host in enumerate(test_hosts):\n",
    "        lst = y_test_pred[i,:].tolist()\n",
    "        lst.insert(0, test_host)\n",
    "        writer.writerow(lst)"
   ]
  },
  {
   "cell_type": "markdown",
   "metadata": {},
   "source": [
    "## Save the train/test tf-idf vectors"
   ]
  },
  {
   "cell_type": "code",
   "execution_count": 23,
   "metadata": {},
   "outputs": [],
   "source": [
    "from scipy import sparse\n",
    "\n",
    "sparse.save_npz(path_data+\"X_train_text.npz\", X_train)\n",
    "sparse.save_npz(path_data+\"X_test_text.npz\", X_test)\n",
    "sparse.save_npz(path_data+\"X_other_text.npz\", X_other)"
   ]
  },
  {
   "cell_type": "code",
   "execution_count": 29,
   "metadata": {},
   "outputs": [],
   "source": [
    "with open(path_data+\"other_host.csv\", 'w') as f:\n",
    "    f.writelines('\\n'.join(other_hosts))"
   ]
  }
 ],
 "metadata": {
  "kernelspec": {
   "display_name": "Python 3",
   "language": "python",
   "name": "python3"
  },
  "language_info": {
   "codemirror_mode": {
    "name": "ipython",
    "version": 3
   },
   "file_extension": ".py",
   "mimetype": "text/x-python",
   "name": "python",
   "nbconvert_exporter": "python",
   "pygments_lexer": "ipython3",
   "version": "3.6.1"
  }
 },
 "nbformat": 4,
 "nbformat_minor": 2
}
